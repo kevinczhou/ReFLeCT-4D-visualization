{
 "cells": [
  {
   "cell_type": "code",
   "execution_count": null,
   "id": "c767ee87-b94f-4753-bc1b-c40f9d289d9c",
   "metadata": {},
   "outputs": [],
   "source": [
    "import napari\n",
    "import numpy as np\n",
    "import h5py\n",
    "from tqdm.notebook import tqdm\n",
    "import os\n",
    "\n",
    "# pick a reconstruction:\n",
    "recon_path = '/data/drosophila_recon/'\n",
    "recon_path = '/data/zebrafish_recon/'\n",
    "\n",
    "recon_shape = h5py.File(os.path.join(recon_path, os.listdir(recon_path)[0]))['cxyz'].shape[1:]  # get shape of one volume"
   ]
  },
  {
   "cell_type": "code",
   "execution_count": null,
   "id": "22cb340f-5b84-4f66-81bf-a58aa2835da0",
   "metadata": {},
   "outputs": [],
   "source": [
    "# load two-channel 4D data into memory\n",
    "t_range = range(0, 800, 2)  # select time points to load\n",
    "\n",
    "stack_green = np.zeros((len(t_range),) + recon_shape, dtype='uint8')  # green fluorescence channel\n",
    "stack_red = np.zeros((len(t_range),) + recon_shape, dtype='uint8')  # attenuation channel\n",
    "\n",
    "green_scale = 0.5  # adjust the channel brightness\n",
    "red_scale = 2\n",
    "\n",
    "for i, t in tqdm(enumerate(t_range), total=len(t_range)):\n",
    "    vol = h5py.File(f'{recon_path}/recon_{t}.hdf5')['cxyz']\n",
    "    stack_green[i] = np.clip( vol[0] * green_scale * 255, 0, 255).astype('uint8')\n",
    "    stack_red[i] = np.clip(vol[1] * red_scale * 255, 0, 255).astype('uint8')\n",
    "    "
   ]
  },
  {
   "cell_type": "code",
   "execution_count": null,
   "id": "dae7eb51-dcf1-475e-a43a-f5a5c6a3793f",
   "metadata": {},
   "outputs": [],
   "source": [
    "# visualize in napari\n",
    "viewer = napari.Viewer()\n",
    "viewer.add_image(stack_green, colormap='green', blending='additive')\n",
    "viewer.add_image(stack_red, colormap='magenta', blending='additive')\n",
    "viewer.dims.ndisplay = 3"
   ]
  },
  {
   "cell_type": "code",
   "execution_count": null,
   "id": "2691d1ce-2af3-479d-b593-7ce66e4bdd91",
   "metadata": {},
   "outputs": [],
   "source": []
  }
 ],
 "metadata": {
  "kernelspec": {
   "display_name": "Python 3 (ipykernel)",
   "language": "python",
   "name": "python3"
  },
  "language_info": {
   "codemirror_mode": {
    "name": "ipython",
    "version": 3
   },
   "file_extension": ".py",
   "mimetype": "text/x-python",
   "name": "python",
   "nbconvert_exporter": "python",
   "pygments_lexer": "ipython3",
   "version": "3.10.14"
  }
 },
 "nbformat": 4,
 "nbformat_minor": 5
}
